{
 "cells": [
  {
   "cell_type": "code",
   "execution_count": 1,
   "metadata": {},
   "outputs": [],
   "source": [
    "import argparse\n",
    "import os\n",
    "import timeit\n",
    "from pprint import pprint\n",
    "import joblib\n",
    "import numpy as np\n",
    "import pandas as pd\n",
    "from scipy.sparse import csr_matrix\n",
    "from xgboost.sklearn import XGBClassifier\n",
    "from feast import FeatureStore"
   ]
  },
  {
   "cell_type": "code",
   "execution_count": 31,
   "metadata": {},
   "outputs": [],
   "source": [
    "label_path = r\"/home/hjhwang/workspace/tpcx-ai-v1.0.3.1/labels.parquet\"\n",
    "label_data = pd.read_parquet(label_path)"
   ]
  },
  {
   "cell_type": "markdown",
   "metadata": {},
   "source": [
    "## Generating Training Data\n",
    "- (1) Read data parquet file to pandas dataframe\n",
    "- (2) Merge with label dataframe\n"
   ]
  },
  {
   "cell_type": "code",
   "execution_count": 33,
   "metadata": {},
   "outputs": [],
   "source": [
    "\n",
    "train_label_data = label_data[(label_data['event_timestamp'] >= '2024-01-01') & (label_data['event_timestamp'] < '2024-05-01')]"
   ]
  },
  {
   "cell_type": "code",
   "execution_count": 34,
   "metadata": {},
   "outputs": [
    {
     "name": "stdout",
     "output_type": "stream",
     "text": [
      "generating train data time:\t 2.106879997998476\n"
     ]
    }
   ],
   "source": [
    "start = timeit.default_timer()\n",
    "data_path = r\"/home/hjhwang/workspace/tpcx-ai-v1.0.3.1/data.parquet\"\n",
    "data = pd.read_parquet(data_path)\n",
    "merged_data = pd.merge(data, train_label_data, on=['o_order_id','event_timestamp'], how='inner')[['o_order_id', 'trip_type', 'event_timestamp', 'scan_count',\n",
    "       'scan_count_abs']]\n",
    "end = timeit.default_timer()\n",
    "pre_process_time = end - start\n",
    "print('generating train data time:\\t', pre_process_time)"
   ]
  },
  {
   "cell_type": "code",
   "execution_count": 35,
   "metadata": {},
   "outputs": [
    {
     "data": {
      "text/plain": [
       "<bound method NDFrame.describe of          o_order_id  trip_type                     event_timestamp  \\\n",
       "0                 3         33 2024-03-24 03:23:42.480527360+00:00   \n",
       "1                 4         34 2024-01-31 21:04:35.499944448+00:00   \n",
       "2                 5         24 2024-03-20 09:29:06.256833024+00:00   \n",
       "3                 6          5 2024-02-20 23:07:58.610120704+00:00   \n",
       "4                 7         26 2024-03-10 04:17:01.824889344+00:00   \n",
       "...             ...        ...                                 ...   \n",
       "2411603     3676948         31 2024-01-09 23:36:16.387957760+00:00   \n",
       "2411604     3676950         34 2024-03-11 03:51:32.402438912+00:00   \n",
       "2411605     3676951         15 2024-02-03 23:31:55.918401024+00:00   \n",
       "2411606     3676954         29 2024-04-08 16:44:08.425506560+00:00   \n",
       "2411607     3676955         35 2024-01-17 12:44:43.901174528+00:00   \n",
       "\n",
       "         scan_count  scan_count_abs  \n",
       "0                12              12  \n",
       "1                48              48  \n",
       "2                14              14  \n",
       "3                 3               3  \n",
       "4                 7               7  \n",
       "...             ...             ...  \n",
       "2411603           6               6  \n",
       "2411604          31              31  \n",
       "2411605           3               3  \n",
       "2411606           8               8  \n",
       "2411607           9               9  \n",
       "\n",
       "[2411608 rows x 5 columns]>"
      ]
     },
     "execution_count": 35,
     "metadata": {},
     "output_type": "execute_result"
    }
   ],
   "source": [
    "merged_data.describe"
   ]
  },
  {
   "cell_type": "markdown",
   "metadata": {},
   "source": [
    "## Generating Inference Data\n",
    "- (1) Read data parquet file to pandas dataframe\n",
    "- (2) Select rows in order id list\n"
   ]
  },
  {
   "cell_type": "code",
   "execution_count": 38,
   "metadata": {},
   "outputs": [],
   "source": [
    "infer_label_data = label_data[(label_data['event_timestamp'] >= '2024-05-01') & (label_data['event_timestamp'] < '2024-05-31')]\n",
    "data_path = r\"/home/hjhwang/workspace/tpcx-ai-v1.0.3.1/data.parquet\"\n",
    "data = pd.read_parquet(data_path)\n",
    "merged_data = pd.merge(data, infer_label_data, on=['o_order_id','event_timestamp'], how='inner')[['o_order_id', 'scan_count',\n",
    "       'scan_count_abs']]"
   ]
  },
  {
   "cell_type": "code",
   "execution_count": 39,
   "metadata": {},
   "outputs": [
    {
     "name": "stdout",
     "output_type": "stream",
     "text": [
      "generating inference data time:\t 0.007800019346177578\n"
     ]
    }
   ],
   "source": [
    "start = timeit.default_timer()\n",
    "\n",
    "selected_ids = [10, 12, 26, 27, 32, 36, 50, 53, 55]\n",
    "filtered_rows = merged_data[merged_data['o_order_id'].isin(selected_ids)] \n",
    "end = timeit.default_timer()\n",
    "pre_process_time = end - start\n",
    "print('generating inference data time:\\t', pre_process_time)"
   ]
  }
 ],
 "metadata": {
  "kernelspec": {
   "display_name": "Python 3",
   "language": "python",
   "name": "python3"
  },
  "language_info": {
   "codemirror_mode": {
    "name": "ipython",
    "version": 3
   },
   "file_extension": ".py",
   "mimetype": "text/x-python",
   "name": "python",
   "nbconvert_exporter": "python",
   "pygments_lexer": "ipython3",
   "version": "3.9.18"
  }
 },
 "nbformat": 4,
 "nbformat_minor": 2
}
