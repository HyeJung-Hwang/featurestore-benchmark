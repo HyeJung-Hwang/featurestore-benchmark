{
 "cells": [
  {
   "cell_type": "code",
   "execution_count": 25,
   "metadata": {},
   "outputs": [],
   "source": [
    "import argparse\n",
    "import os\n",
    "import timeit\n",
    "import time\n",
    "from pprint import pprint\n",
    "import joblib\n",
    "import numpy as np\n",
    "import pandas as pd\n",
    "from scipy.sparse import csr_matrix\n",
    "\n",
    "from datetime import datetime\n",
    "from xgboost.sklearn import XGBClassifier\n",
    "from feast import FeatureStore"
   ]
  },
  {
   "cell_type": "code",
   "execution_count": 5,
   "metadata": {},
   "outputs": [
    {
     "data": {
      "text/html": [
       "<div>\n",
       "<style scoped>\n",
       "    .dataframe tbody tr th:only-of-type {\n",
       "        vertical-align: middle;\n",
       "    }\n",
       "\n",
       "    .dataframe tbody tr th {\n",
       "        vertical-align: top;\n",
       "    }\n",
       "\n",
       "    .dataframe thead th {\n",
       "        text-align: right;\n",
       "    }\n",
       "</style>\n",
       "<table border=\"1\" class=\"dataframe\">\n",
       "  <thead>\n",
       "    <tr style=\"text-align: right;\">\n",
       "      <th></th>\n",
       "      <th>user_id</th>\n",
       "      <th>product_id</th>\n",
       "      <th>rating</th>\n",
       "      <th>event_timestamp</th>\n",
       "      <th>user_age</th>\n",
       "      <th>user_location</th>\n",
       "    </tr>\n",
       "  </thead>\n",
       "  <tbody>\n",
       "    <tr>\n",
       "      <th>0</th>\n",
       "      <td>0</td>\n",
       "      <td>1647</td>\n",
       "      <td>4</td>\n",
       "      <td>2024-06-28 08:28:51</td>\n",
       "      <td>22</td>\n",
       "      <td>Busan</td>\n",
       "    </tr>\n",
       "    <tr>\n",
       "      <th>1</th>\n",
       "      <td>0</td>\n",
       "      <td>1505</td>\n",
       "      <td>5</td>\n",
       "      <td>2024-07-03 09:46:09</td>\n",
       "      <td>30</td>\n",
       "      <td>Busan</td>\n",
       "    </tr>\n",
       "    <tr>\n",
       "      <th>2</th>\n",
       "      <td>0</td>\n",
       "      <td>1608</td>\n",
       "      <td>5</td>\n",
       "      <td>2024-04-21 08:05:01</td>\n",
       "      <td>25</td>\n",
       "      <td>Seoul</td>\n",
       "    </tr>\n",
       "    <tr>\n",
       "      <th>3</th>\n",
       "      <td>0</td>\n",
       "      <td>1785</td>\n",
       "      <td>4</td>\n",
       "      <td>2024-01-13 04:16:34</td>\n",
       "      <td>25</td>\n",
       "      <td>Gwangju</td>\n",
       "    </tr>\n",
       "    <tr>\n",
       "      <th>4</th>\n",
       "      <td>0</td>\n",
       "      <td>1505</td>\n",
       "      <td>5</td>\n",
       "      <td>2024-02-22 13:48:20</td>\n",
       "      <td>22</td>\n",
       "      <td>Daegu</td>\n",
       "    </tr>\n",
       "  </tbody>\n",
       "</table>\n",
       "</div>"
      ],
      "text/plain": [
       "   user_id  product_id  rating     event_timestamp  user_age user_location\n",
       "0        0        1647       4 2024-06-28 08:28:51        22         Busan\n",
       "1        0        1505       5 2024-07-03 09:46:09        30         Busan\n",
       "2        0        1608       5 2024-04-21 08:05:01        25         Seoul\n",
       "3        0        1785       4 2024-01-13 04:16:34        25       Gwangju\n",
       "4        0        1505       5 2024-02-22 13:48:20        22         Daegu"
      ]
     },
     "execution_count": 5,
     "metadata": {},
     "output_type": "execute_result"
    }
   ],
   "source": [
    "raw_data = pd.read_parquet(\"/home/hjhwang/workspace/tpcx-ai-v1.0.3.1/user_source.parquet\")\n",
    "raw_data.head()"
   ]
  },
  {
   "cell_type": "code",
   "execution_count": 10,
   "metadata": {},
   "outputs": [
    {
     "data": {
      "text/plain": [
       "user_id\n",
       "3395    28\n",
       "5231    28\n",
       "1043    28\n",
       "6911    28\n",
       "2565    28\n",
       "        ..\n",
       "6742     1\n",
       "3963     1\n",
       "1775     1\n",
       "496      1\n",
       "4586     1\n",
       "Name: count, Length: 7071, dtype: int64"
      ]
     },
     "execution_count": 10,
     "metadata": {},
     "output_type": "execute_result"
    }
   ],
   "source": [
    "raw_data[\"user_id\"].value_counts()"
   ]
  },
  {
   "cell_type": "markdown",
   "metadata": {},
   "source": [
    "## Deploy local feature store."
   ]
  },
  {
   "cell_type": "code",
   "execution_count": 20,
   "metadata": {},
   "outputs": [
    {
     "name": "stdout",
     "output_type": "stream",
     "text": [
      "/home/hjhwang/workspace/tpcx-ai-v1.0.3.1/lib/python-venv/lib/python3.9/site-packages/feast/feature_store.py:589: RuntimeWarning: On demand feature view is an experimental feature. This API is stable, but the functionality does not scale well for offline retrieval\n",
      "  warnings.warn(\n",
      "Updated feature view \u001b[1m\u001b[33muser_product_rating_fv\u001b[0m\n",
      "\tbatch_source: \u001b[1m\u001b[33mtype: BATCH_FILE\n",
      "timestamp_field: \"event_timestamp\"\n",
      "created_timestamp_column: \"created\"\n",
      "file_options {\n",
      "  uri: \"/home/hjhwang/workspace/tpcx-ai-v1.0.3.1/user_source.parquet\"\n",
      "}\n",
      "data_source_class_type: \"feast.infra.offline_stores.file_source.FileSource\"\n",
      "name: \"user_source\"\n",
      "\u001b[0m -> \u001b[1m\u001b[92mtype: BATCH_FILE\n",
      "timestamp_field: \"event_timestamp\"\n",
      "file_options {\n",
      "  uri: \"/home/hjhwang/workspace/tpcx-ai-v1.0.3.1/user_source.parquet\"\n",
      "}\n",
      "data_source_class_type: \"feast.infra.offline_stores.file_source.FileSource\"\n",
      "name: \"user_source\"\n",
      "\u001b[0m\n",
      "\n",
      "\u001b[1m\u001b[94mNo changes to infrastructure\n"
     ]
    }
   ],
   "source": [
    "!cd /home/hjhwang/workspace/tpcx-ai-v1.0.3.1/feast_uc07/feature_repo && feast apply"
   ]
  },
  {
   "cell_type": "markdown",
   "metadata": {},
   "source": [
    "## Generate training data"
   ]
  },
  {
   "cell_type": "code",
   "execution_count": 21,
   "metadata": {},
   "outputs": [],
   "source": [
    "store = FeatureStore(repo_path=\"/home/hjhwang/workspace/tpcx-ai-v1.0.3.1/feast_uc07/feature_repo\")"
   ]
  },
  {
   "cell_type": "code",
   "execution_count": 22,
   "metadata": {},
   "outputs": [
    {
     "name": "stderr",
     "output_type": "stream",
     "text": [
      "WARNING:root:_list_feature_views will make breaking changes. Please use _list_batch_feature_views instead. _list_feature_views will behave like _list_all_feature_views in the future.\n"
     ]
    }
   ],
   "source": [
    "entity_df = pd.DataFrame.from_dict(\n",
    "    {\n",
    "        \"user_id\": [52, 93, 106, 435, 496, 533, 577, 798, 829, 1137, 1147, 1185, 1261, 1270, 1412, 1512, 1775, 1783, 2043, 2100, 2666, 2726, 2926, 3139, 3181, 3436, 3458, 3478, 3674, 3714, 3792, 3963, 4002, 4016, 4086, 4087, 4136, 4333, 4446, 4508, 4532, 4536, 4549, 4586, 4803, 4871, 4928, 4953, 5282, 5640, 5765, 5776, 5815, 6129, 6261, 6392, 6742, 6869, 6909, 6933],\n",
    "        \"event_timestamp\":[\n",
    "        datetime(2024, 4, 12, 12, 59, 41), datetime(2024, 6, 5, 3, 57, 52), datetime(2024, 6, 7, 20, 14, 55),\n",
    "        datetime(2024, 3, 24, 2, 49, 18), datetime(2024, 1, 9, 2, 57, 16), datetime(2024, 4, 11, 10, 49, 19),\n",
    "        datetime(2024, 3, 18, 2, 30, 43), datetime(2024, 5, 21, 8, 52, 17), datetime(2024, 1, 31, 23, 3, 21),\n",
    "        datetime(2024, 3, 8, 12, 29, 24), datetime(2024, 6, 4, 12, 46, 43), datetime(2024, 6, 1, 14, 24, 44),\n",
    "        datetime(2024, 5, 4, 9, 23, 57), datetime(2024, 2, 22, 2, 13, 34), datetime(2024, 1, 18, 20, 59, 42),\n",
    "        datetime(2024, 1, 28, 17, 14, 57), datetime(2024, 6, 28, 3, 18, 25), datetime(2024, 4, 12, 12, 8, 20),\n",
    "        datetime(2024, 5, 29, 20, 47, 49), datetime(2024, 2, 1, 19, 48, 36), datetime(2024, 5, 19, 18, 2, 23),\n",
    "        datetime(2024, 1, 13, 22, 1, 33), datetime(2024, 3, 4, 0, 39, 26), datetime(2024, 6, 25, 21, 12, 28),\n",
    "        datetime(2024, 4, 15, 17, 59, 3), datetime(2024, 6, 7, 0, 31, 5), datetime(2024, 2, 13, 15, 24, 2),\n",
    "        datetime(2024, 2, 24, 10, 33, 19), datetime(2024, 3, 14, 23, 27, 8), datetime(2024, 4, 12, 7, 15, 18),\n",
    "        datetime(2024, 6, 28, 21, 13, 19), datetime(2024, 1, 21, 9, 10, 46), datetime(2024, 3, 30, 9, 17, 44),\n",
    "        datetime(2024, 5, 28, 0, 32, 11), datetime(2024, 1, 28, 6, 13, 56), datetime(2024, 1, 28, 21, 39, 18),\n",
    "        datetime(2024, 6, 15, 18, 18, 51), datetime(2024, 4, 9, 10, 57, 30), datetime(2024, 7, 4, 11, 23, 35),\n",
    "        datetime(2024, 5, 24, 16, 3, 37), datetime(2024, 3, 1, 6, 57, 55), datetime(2024, 5, 15, 22, 10, 40),\n",
    "        datetime(2024, 4, 12, 0, 28, 20), datetime(2024, 4, 4, 16, 29, 30), datetime(2024, 1, 8, 2, 51, 53),\n",
    "        datetime(2024, 5, 17, 10, 8, 41), datetime(2024, 4, 3, 8, 45, 35), datetime(2024, 4, 6, 8, 43, 12),\n",
    "        datetime(2024, 3, 28, 1, 53, 59), datetime(2024, 1, 7, 8, 49, 11), datetime(2024, 3, 9, 19, 57, 30),\n",
    "        datetime(2024, 6, 1, 21, 1, 7), datetime(2024, 1, 5, 3, 15, 2), datetime(2024, 1, 26, 9, 25, 39),\n",
    "        datetime(2024, 5, 2, 7, 42, 39), datetime(2024, 4, 19, 11, 21, 56), datetime(2024, 4, 5, 0, 12, 14),\n",
    "        datetime(2024, 1, 8, 2, 37, 52), datetime(2024, 4, 25, 4, 30, 37), datetime(2024, 1, 2, 7, 3, 0)\n",
    "    ],\n",
    "        \"recent_viewed_product_id\": np.random.randint(1, 1000, size=60),  \n",
    "        \"cart_size\": np.random.randint(1, 10, size=60)  \n",
    "    }\n",
    ")\n",
    "\n",
    "training_df = store.get_historical_features(\n",
    "    entity_df=entity_df,\n",
    "    features=[\n",
    "        \"user_product_rating_fv:product_id\",\n",
    "        \"user_product_rating_fv:rating\",\n",
    "        \"user_product_rating_fv:user_age\",\n",
    "        \"user_product_rating_fv:user_location\",\n",
    "    ],\n",
    ").to_df()"
   ]
  },
  {
   "cell_type": "code",
   "execution_count": 28,
   "metadata": {},
   "outputs": [
    {
     "data": {
      "text/plain": [
       "[6933,\n",
       " 5815,\n",
       " 5640,\n",
       " 6869,\n",
       " 4803,\n",
       " 496,\n",
       " 2726,\n",
       " 1412,\n",
       " 3963,\n",
       " 6129,\n",
       " 4086,\n",
       " 1512,\n",
       " 4087,\n",
       " 829,\n",
       " 2100,\n",
       " 3458,\n",
       " 1270,\n",
       " 3478,\n",
       " 4532,\n",
       " 2926,\n",
       " 1137,\n",
       " 5765,\n",
       " 3674,\n",
       " 577,\n",
       " 435,\n",
       " 5282,\n",
       " 4002,\n",
       " 4928,\n",
       " 4586,\n",
       " 6742,\n",
       " 4953,\n",
       " 4333,\n",
       " 533,\n",
       " 4549,\n",
       " 3714,\n",
       " 1783,\n",
       " 52,\n",
       " 3181,\n",
       " 6392,\n",
       " 6909,\n",
       " 6261,\n",
       " 1261,\n",
       " 4536,\n",
       " 4871,\n",
       " 2666,\n",
       " 798,\n",
       " 4508,\n",
       " 4016,\n",
       " 2043,\n",
       " 1185,\n",
       " 5776,\n",
       " 1147,\n",
       " 93,\n",
       " 3436,\n",
       " 106,\n",
       " 4136,\n",
       " 3139,\n",
       " 1775,\n",
       " 3792,\n",
       " 4446]"
      ]
     },
     "execution_count": 28,
     "metadata": {},
     "output_type": "execute_result"
    }
   ],
   "source": [
    "training_df[\"user_id\"].to_list()"
   ]
  },
  {
   "cell_type": "markdown",
   "metadata": {},
   "source": [
    "## Ingest batch features into your online store"
   ]
  },
  {
   "cell_type": "code",
   "execution_count": 24,
   "metadata": {},
   "outputs": [
    {
     "name": "stdout",
     "output_type": "stream",
     "text": [
      "07/04/2024 04:43:43 PM root WARNING: _list_feature_views will make breaking changes. Please use _list_batch_feature_views instead. _list_feature_views will behave like _list_all_feature_views in the future.\n",
      "Materializing \u001b[1m\u001b[32m1\u001b[0m feature views from \u001b[1m\u001b[32m2024-05-01 09:00:00+09:00\u001b[0m to \u001b[1m\u001b[32m2024-05-31 09:00:00+09:00\u001b[0m into the \u001b[1m\u001b[32msqlite\u001b[0m online store.\n",
      "\n",
      "\u001b[1m\u001b[32muser_product_rating_fv\u001b[0m:\n",
      "100%|████████████████████████████████████████████████████████| 6372/6372 [00:00<00:00, 13053.10it/s]\n"
     ]
    }
   ],
   "source": [
    "!cd /home/hjhwang/workspace/tpcx-ai-v1.0.3.1/feast_uc07/feature_repo && feast materialize 2024-05-01T00:00:00+00:00 2024-05-31T00:00:00+00:00"
   ]
  },
  {
   "cell_type": "code",
   "execution_count": 30,
   "metadata": {},
   "outputs": [
    {
     "name": "stderr",
     "output_type": "stream",
     "text": [
      "WARNING:root:_list_feature_views will make breaking changes. Please use _list_batch_feature_views instead. _list_feature_views will behave like _list_all_feature_views in the future.\n"
     ]
    },
    {
     "name": "stdout",
     "output_type": "stream",
     "text": [
      "generating inference data time:\t 0.0027800695970654488\n"
     ]
    }
   ],
   "source": [
    "start = timeit.default_timer()\n",
    "\n",
    "feature_vector = store.get_online_features(\n",
    "    features=[\n",
    "         \"user_product_rating_fv:product_id\",\n",
    "        \"user_product_rating_fv:rating\",\n",
    "        \"user_product_rating_fv:user_age\",\n",
    "        \"user_product_rating_fv:user_location\",\n",
    "    ],\n",
    "    entity_rows=[\n",
    "        {\"user_id\":6933},\n",
    "        {\"user_id\":5815},\n",
    "        {\"user_id\":6869},\n",
    "        {\"user_id\":4803},\n",
    "        {\"user_id\":496},\n",
    "        {\"user_id\":2726},\n",
    "        {\"user_id\":1412},\n",
    "        {\"user_id\":3963},\n",
    "        {\"user_id\":6129},   \n",
    "    ]\n",
    ").to_dict()\n",
    "end = timeit.default_timer()\n",
    "pre_process_time = end - start\n",
    "print('generating inference data time:\\t', pre_process_time)"
   ]
  }
 ],
 "metadata": {
  "kernelspec": {
   "display_name": "Python 3",
   "language": "python",
   "name": "python3"
  },
  "language_info": {
   "codemirror_mode": {
    "name": "ipython",
    "version": 3
   },
   "file_extension": ".py",
   "mimetype": "text/x-python",
   "name": "python",
   "nbconvert_exporter": "python",
   "pygments_lexer": "ipython3",
   "version": "3.9.18"
  }
 },
 "nbformat": 4,
 "nbformat_minor": 2
}
