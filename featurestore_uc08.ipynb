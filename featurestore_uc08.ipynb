{
 "cells": [
  {
   "cell_type": "code",
   "execution_count": 20,
   "metadata": {},
   "outputs": [],
   "source": [
    "import argparse\n",
    "import os\n",
    "import timeit\n",
    "from pprint import pprint\n",
    "import joblib\n",
    "import numpy as np\n",
    "import pandas as pd\n",
    "from scipy.sparse import csr_matrix\n",
    "from xgboost.sklearn import XGBClassifier\n",
    "from feast import FeatureStore"
   ]
  },
  {
   "cell_type": "markdown",
   "metadata": {},
   "source": [
    "## Offline Store Use Case 1: Generating Training Data\n",
    "- Feature: lineitem(with date) + product\n",
    "- Entity: Order"
   ]
  },
  {
   "cell_type": "code",
   "execution_count": 3,
   "metadata": {},
   "outputs": [],
   "source": [
    "store = FeatureStore(repo_path=\"/home/hjhwang/workspace/tpcx-ai-v1.0.3.1/feast_uc08/feature_repo\")\n",
    "order_path = r\"/home/hjhwang/workspace/tpcx-ai-v1.0.3.1/entity_order.parquet\"\n",
    "order_data = pd.read_parquet(order_path)"
   ]
  },
  {
   "cell_type": "code",
   "execution_count": 4,
   "metadata": {},
   "outputs": [
    {
     "data": {
      "text/plain": [
       "<bound method NDFrame.describe of         order_id  o_customer_sk    weekday event_timestamp  store  trip_type\n",
       "0              1          37731  Wednesday      2010-07-14     11          8\n",
       "1              2          43252    Tuesday      2010-09-14      3          3\n",
       "2              3          19823   Saturday      2010-09-18     10          7\n",
       "3              4          34924  Wednesday      2010-08-11      4          8\n",
       "4              5          42024  Wednesday      2011-04-06      4         39\n",
       "...          ...            ...        ...             ...    ...        ...\n",
       "999995    999996          56800    Tuesday      2010-03-16      8         39\n",
       "999996    999997          65366  Wednesday      2011-08-31      5         28\n",
       "999997    999998          36147    Tuesday      2011-05-17      2          9\n",
       "999998    999999          14167  Wednesday      2011-11-16      1         39\n",
       "999999   1000000          49495     Monday      2011-09-19      3         39\n",
       "\n",
       "[1000000 rows x 6 columns]>"
      ]
     },
     "execution_count": 4,
     "metadata": {},
     "output_type": "execute_result"
    }
   ],
   "source": [
    "training_entity_df = order_data[:1000000]\n",
    "training_entity_df.describe"
   ]
  },
  {
   "cell_type": "code",
   "execution_count": 5,
   "metadata": {},
   "outputs": [
    {
     "data": {
      "text/plain": [
       "event_timestamp\n",
       "2010-03-03    14712\n",
       "2011-03-02    14706\n",
       "2011-09-14    13662\n",
       "2010-08-04    13529\n",
       "2010-09-15    13515\n",
       "              ...  \n",
       "2011-09-25      824\n",
       "2010-05-02      815\n",
       "2011-06-05      815\n",
       "2011-10-23      803\n",
       "2010-10-10      802\n",
       "Name: count, Length: 728, dtype: int64"
      ]
     },
     "execution_count": 5,
     "metadata": {},
     "output_type": "execute_result"
    }
   ],
   "source": [
    "order_data[\"event_timestamp\"].value_counts()"
   ]
  },
  {
   "cell_type": "code",
   "execution_count": 6,
   "metadata": {},
   "outputs": [
    {
     "name": "stderr",
     "output_type": "stream",
     "text": [
      "WARNING:root:_list_feature_views will make breaking changes. Please use _list_batch_feature_views instead. _list_feature_views will behave like _list_all_feature_views in the future.\n"
     ]
    }
   ],
   "source": [
    "training_df = store.get_historical_features(\n",
    "    entity_df=training_entity_df,\n",
    "    features=[\n",
    "        \"line_order_product:price\",\n",
    "    ],\n",
    ").to_df()"
   ]
  },
  {
   "cell_type": "code",
   "execution_count": 46,
   "metadata": {},
   "outputs": [
    {
     "data": {
      "text/html": [
       "<div>\n",
       "<style scoped>\n",
       "    .dataframe tbody tr th:only-of-type {\n",
       "        vertical-align: middle;\n",
       "    }\n",
       "\n",
       "    .dataframe tbody tr th {\n",
       "        vertical-align: top;\n",
       "    }\n",
       "\n",
       "    .dataframe thead th {\n",
       "        text-align: right;\n",
       "    }\n",
       "</style>\n",
       "<table border=\"1\" class=\"dataframe\">\n",
       "  <thead>\n",
       "    <tr style=\"text-align: right;\">\n",
       "      <th></th>\n",
       "      <th>order_id</th>\n",
       "      <th>o_customer_sk</th>\n",
       "      <th>weekday</th>\n",
       "      <th>event_timestamp</th>\n",
       "      <th>store</th>\n",
       "      <th>trip_type</th>\n",
       "      <th>price</th>\n",
       "    </tr>\n",
       "  </thead>\n",
       "  <tbody>\n",
       "    <tr>\n",
       "      <th>0</th>\n",
       "      <td>1095370</td>\n",
       "      <td>47251</td>\n",
       "      <td>Monday</td>\n",
       "      <td>2010-01-04 00:00:00+00:00</td>\n",
       "      <td>6</td>\n",
       "      <td>5</td>\n",
       "      <td>5.03</td>\n",
       "    </tr>\n",
       "    <tr>\n",
       "      <th>1</th>\n",
       "      <td>924357</td>\n",
       "      <td>17972</td>\n",
       "      <td>Monday</td>\n",
       "      <td>2010-01-04 00:00:00+00:00</td>\n",
       "      <td>8</td>\n",
       "      <td>37</td>\n",
       "      <td>8.91</td>\n",
       "    </tr>\n",
       "    <tr>\n",
       "      <th>2</th>\n",
       "      <td>129378</td>\n",
       "      <td>56575</td>\n",
       "      <td>Monday</td>\n",
       "      <td>2010-01-04 00:00:00+00:00</td>\n",
       "      <td>5</td>\n",
       "      <td>999</td>\n",
       "      <td>7.69</td>\n",
       "    </tr>\n",
       "    <tr>\n",
       "      <th>3</th>\n",
       "      <td>718770</td>\n",
       "      <td>50135</td>\n",
       "      <td>Monday</td>\n",
       "      <td>2010-01-04 00:00:00+00:00</td>\n",
       "      <td>3</td>\n",
       "      <td>999</td>\n",
       "      <td>5.68</td>\n",
       "    </tr>\n",
       "    <tr>\n",
       "      <th>4</th>\n",
       "      <td>2294536</td>\n",
       "      <td>7386</td>\n",
       "      <td>Monday</td>\n",
       "      <td>2010-01-04 00:00:00+00:00</td>\n",
       "      <td>5</td>\n",
       "      <td>40</td>\n",
       "      <td>7.13</td>\n",
       "    </tr>\n",
       "  </tbody>\n",
       "</table>\n",
       "</div>"
      ],
      "text/plain": [
       "   order_id  o_customer_sk weekday           event_timestamp  store  \\\n",
       "0   1095370          47251  Monday 2010-01-04 00:00:00+00:00      6   \n",
       "1    924357          17972  Monday 2010-01-04 00:00:00+00:00      8   \n",
       "2    129378          56575  Monday 2010-01-04 00:00:00+00:00      5   \n",
       "3    718770          50135  Monday 2010-01-04 00:00:00+00:00      3   \n",
       "4   2294536           7386  Monday 2010-01-04 00:00:00+00:00      5   \n",
       "\n",
       "   trip_type  price  \n",
       "0          5   5.03  \n",
       "1         37   8.91  \n",
       "2        999   7.69  \n",
       "3        999   5.68  \n",
       "4         40   7.13  "
      ]
     },
     "execution_count": 46,
     "metadata": {},
     "output_type": "execute_result"
    }
   ],
   "source": [
    "training_df.head()\n"
   ]
  },
  {
   "cell_type": "code",
   "execution_count": 23,
   "metadata": {},
   "outputs": [
    {
     "data": {
      "text/plain": [
       "event_timestamp\n",
       "2010-03-03 00:00:00+00:00    4034\n",
       "2011-03-02 00:00:00+00:00    3950\n",
       "2010-09-15 00:00:00+00:00    3728\n",
       "2010-08-04 00:00:00+00:00    3691\n",
       "2011-09-14 00:00:00+00:00    3684\n",
       "                             ... \n",
       "2010-06-06 00:00:00+00:00     218\n",
       "2011-07-10 00:00:00+00:00     216\n",
       "2010-05-30 00:00:00+00:00     216\n",
       "2011-10-23 00:00:00+00:00     214\n",
       "2011-10-30 00:00:00+00:00     201\n",
       "Name: count, Length: 728, dtype: int64"
      ]
     },
     "execution_count": 23,
     "metadata": {},
     "output_type": "execute_result"
    }
   ],
   "source": [
    "training_df[\"event_timestamp\"].value_counts()"
   ]
  },
  {
   "cell_type": "markdown",
   "metadata": {},
   "source": [
    "## Offline Store Use Case 2: Run Offline Inference\n",
    "- Entity: 2010-10-10 에 발생한 구매 데이터"
   ]
  },
  {
   "cell_type": "code",
   "execution_count": 19,
   "metadata": {},
   "outputs": [
    {
     "name": "stdout",
     "output_type": "stream",
     "text": [
      "07/03/2024 11:07:10 AM root WARNING: _list_feature_views will make breaking changes. Please use _list_batch_feature_views instead. _list_feature_views will behave like _list_all_feature_views in the future.\n",
      "Materializing \u001b[1m\u001b[32m1\u001b[0m feature views from \u001b[1m\u001b[32m2010-01-03 09:00:00+09:00\u001b[0m to \u001b[1m\u001b[32m2010-01-05 09:00:00+09:00\u001b[0m into the \u001b[1m\u001b[32msqlite\u001b[0m online store.\n",
      "\n",
      "\u001b[1m\u001b[32mline_order_product\u001b[0m:\n",
      "100%|█████████████████████████████████████████████████████████| 3980/3980 [00:00<00:00, 9585.87it/s]\n"
     ]
    }
   ],
   "source": [
    "!cd /home/hjhwang/workspace/tpcx-ai-v1.0.3.1/feast_uc08/feature_repo && feast materialize 2010-01-03T00:00:00+00:00 2010-01-05T00:00:00+00:00"
   ]
  },
  {
   "cell_type": "code",
   "execution_count": 23,
   "metadata": {},
   "outputs": [
    {
     "name": "stderr",
     "output_type": "stream",
     "text": [
      "WARNING:root:_list_feature_views will make breaking changes. Please use _list_batch_feature_views instead. _list_feature_views will behave like _list_all_feature_views in the future.\n"
     ]
    },
    {
     "name": "stdout",
     "output_type": "stream",
     "text": [
      "{'order_id': [866815], 'price': [6.36]}\n"
     ]
    }
   ],
   "source": [
    "feature_vector = store.get_online_features(\n",
    "    features=[\n",
    "        \"line_order_product:price\",\n",
    "    ],\n",
    "    entity_rows=[\n",
    "        {\"order_id\":866815}\n",
    "    ]\n",
    ").to_dict()\n",
    "\n",
    "print(feature_vector)"
   ]
  }
 ],
 "metadata": {
  "kernelspec": {
   "display_name": "Python 3",
   "language": "python",
   "name": "python3"
  },
  "language_info": {
   "codemirror_mode": {
    "name": "ipython",
    "version": 3
   },
   "file_extension": ".py",
   "mimetype": "text/x-python",
   "name": "python",
   "nbconvert_exporter": "python",
   "pygments_lexer": "ipython3",
   "version": "3.9.undefined"
  }
 },
 "nbformat": 4,
 "nbformat_minor": 2
}
