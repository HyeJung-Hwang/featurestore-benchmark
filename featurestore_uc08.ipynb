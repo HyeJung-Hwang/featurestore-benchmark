{
 "cells": [
  {
   "cell_type": "code",
   "execution_count": 1,
   "metadata": {},
   "outputs": [],
   "source": [
    "import argparse\n",
    "import os\n",
    "import timeit\n",
    "\n",
    "import joblib\n",
    "import numpy as np\n",
    "import pandas as pd\n",
    "from scipy.sparse import csr_matrix\n",
    "from xgboost.sklearn import XGBClassifier\n",
    "from feast import FeatureStore"
   ]
  },
  {
   "cell_type": "code",
   "execution_count": 9,
   "metadata": {},
   "outputs": [],
   "source": [
    "order_path = r\"/home/hjhwang/workspace/tpcx-ai-v1.0.3.1/output/data/training/order.csv\"\n",
    "lineitem_path = r\"/home/hjhwang/workspace/tpcx-ai-v1.0.3.1/output/data/training/lineitem.csv\"\n",
    "product_path = r\"/home/hjhwang/workspace/tpcx-ai-v1.0.3.1/output/data/training/product.csv\"\n"
   ]
  },
  {
   "cell_type": "code",
   "execution_count": 23,
   "metadata": {},
   "outputs": [],
   "source": [
    "order_data = pd.read_csv(order_path, parse_dates=['date'])\n",
    "lineitem_data = pd.read_csv(lineitem_path)\n",
    "product_data = pd.read_csv(product_path)\n",
    "product_data = product_data.rename(columns={\"p_product_id\":\"product_id\"})"
   ]
  },
  {
   "cell_type": "code",
   "execution_count": 24,
   "metadata": {},
   "outputs": [
    {
     "data": {
      "text/html": [
       "<div>\n",
       "<style scoped>\n",
       "    .dataframe tbody tr th:only-of-type {\n",
       "        vertical-align: middle;\n",
       "    }\n",
       "\n",
       "    .dataframe tbody tr th {\n",
       "        vertical-align: top;\n",
       "    }\n",
       "\n",
       "    .dataframe thead th {\n",
       "        text-align: right;\n",
       "    }\n",
       "</style>\n",
       "<table border=\"1\" class=\"dataframe\">\n",
       "  <thead>\n",
       "    <tr style=\"text-align: right;\">\n",
       "      <th></th>\n",
       "      <th>product_id</th>\n",
       "      <th>name</th>\n",
       "      <th>department</th>\n",
       "    </tr>\n",
       "  </thead>\n",
       "  <tbody>\n",
       "    <tr>\n",
       "      <th>0</th>\n",
       "      <td>1</td>\n",
       "      <td>AVgDcdD1za</td>\n",
       "      <td>FINANCIAL SERVICES</td>\n",
       "    </tr>\n",
       "    <tr>\n",
       "      <th>1</th>\n",
       "      <td>2</td>\n",
       "      <td>NaN</td>\n",
       "      <td>FINANCIAL SERVICES</td>\n",
       "    </tr>\n",
       "    <tr>\n",
       "      <th>2</th>\n",
       "      <td>3</td>\n",
       "      <td>dGnp5zudx1L8kj</td>\n",
       "      <td>IMPULSE MERCHANDISE</td>\n",
       "    </tr>\n",
       "    <tr>\n",
       "      <th>3</th>\n",
       "      <td>4</td>\n",
       "      <td>BYY7U</td>\n",
       "      <td>FINANCIAL SERVICES</td>\n",
       "    </tr>\n",
       "    <tr>\n",
       "      <th>4</th>\n",
       "      <td>5</td>\n",
       "      <td>h</td>\n",
       "      <td>FINANCIAL SERVICES</td>\n",
       "    </tr>\n",
       "  </tbody>\n",
       "</table>\n",
       "</div>"
      ],
      "text/plain": [
       "   product_id            name           department\n",
       "0           1      AVgDcdD1za   FINANCIAL SERVICES\n",
       "1           2             NaN   FINANCIAL SERVICES\n",
       "2           3  dGnp5zudx1L8kj  IMPULSE MERCHANDISE\n",
       "3           4           BYY7U   FINANCIAL SERVICES\n",
       "4           5               h   FINANCIAL SERVICES"
      ]
     },
     "execution_count": 24,
     "metadata": {},
     "output_type": "execute_result"
    }
   ],
   "source": [
    "product_data.head()\n"
   ]
  },
  {
   "cell_type": "markdown",
   "metadata": {},
   "source": [
    "## Generate Data\n",
    "- Feature: lineitem(with date) + product\n",
    "- Entity: Order"
   ]
  },
  {
   "cell_type": "code",
   "execution_count": 26,
   "metadata": {},
   "outputs": [
    {
     "data": {
      "text/html": [
       "<div>\n",
       "<style scoped>\n",
       "    .dataframe tbody tr th:only-of-type {\n",
       "        vertical-align: middle;\n",
       "    }\n",
       "\n",
       "    .dataframe tbody tr th {\n",
       "        vertical-align: top;\n",
       "    }\n",
       "\n",
       "    .dataframe thead th {\n",
       "        text-align: right;\n",
       "    }\n",
       "</style>\n",
       "<table border=\"1\" class=\"dataframe\">\n",
       "  <thead>\n",
       "    <tr style=\"text-align: right;\">\n",
       "      <th></th>\n",
       "      <th>order_id</th>\n",
       "      <th>product_id</th>\n",
       "      <th>quantity</th>\n",
       "      <th>price</th>\n",
       "      <th>date</th>\n",
       "      <th>name</th>\n",
       "      <th>department</th>\n",
       "    </tr>\n",
       "  </thead>\n",
       "  <tbody>\n",
       "    <tr>\n",
       "      <th>0</th>\n",
       "      <td>1</td>\n",
       "      <td>94</td>\n",
       "      <td>2</td>\n",
       "      <td>2.91</td>\n",
       "      <td>2010-07-14</td>\n",
       "      <td>NaN</td>\n",
       "      <td>PRODUCE</td>\n",
       "    </tr>\n",
       "    <tr>\n",
       "      <th>1</th>\n",
       "      <td>2</td>\n",
       "      <td>1</td>\n",
       "      <td>3</td>\n",
       "      <td>1.20</td>\n",
       "      <td>2010-09-14</td>\n",
       "      <td>AVgDcdD1za</td>\n",
       "      <td>FINANCIAL SERVICES</td>\n",
       "    </tr>\n",
       "    <tr>\n",
       "      <th>2</th>\n",
       "      <td>2</td>\n",
       "      <td>14</td>\n",
       "      <td>3</td>\n",
       "      <td>1.64</td>\n",
       "      <td>2010-09-14</td>\n",
       "      <td>PMgiH</td>\n",
       "      <td>FINANCIAL SERVICES</td>\n",
       "    </tr>\n",
       "    <tr>\n",
       "      <th>3</th>\n",
       "      <td>2</td>\n",
       "      <td>14</td>\n",
       "      <td>3</td>\n",
       "      <td>2.41</td>\n",
       "      <td>2010-09-14</td>\n",
       "      <td>PMgiH</td>\n",
       "      <td>FINANCIAL SERVICES</td>\n",
       "    </tr>\n",
       "    <tr>\n",
       "      <th>4</th>\n",
       "      <td>2</td>\n",
       "      <td>2</td>\n",
       "      <td>2</td>\n",
       "      <td>7.06</td>\n",
       "      <td>2010-09-14</td>\n",
       "      <td>NaN</td>\n",
       "      <td>FINANCIAL SERVICES</td>\n",
       "    </tr>\n",
       "  </tbody>\n",
       "</table>\n",
       "</div>"
      ],
      "text/plain": [
       "   order_id  product_id  quantity  price       date        name  \\\n",
       "0         1          94         2   2.91 2010-07-14         NaN   \n",
       "1         2           1         3   1.20 2010-09-14  AVgDcdD1za   \n",
       "2         2          14         3   1.64 2010-09-14       PMgiH   \n",
       "3         2          14         3   2.41 2010-09-14       PMgiH   \n",
       "4         2           2         2   7.06 2010-09-14         NaN   \n",
       "\n",
       "           department  \n",
       "0             PRODUCE  \n",
       "1  FINANCIAL SERVICES  \n",
       "2  FINANCIAL SERVICES  \n",
       "3  FINANCIAL SERVICES  \n",
       "4  FINANCIAL SERVICES  "
      ]
     },
     "execution_count": 26,
     "metadata": {},
     "output_type": "execute_result"
    }
   ],
   "source": [
    "order_data_id_date = order_data[[\"o_order_id\",\"date\"]]\n",
    "lineitem_data_with_date = lineitem_data.merge(order_data_id_date, left_on='li_order_id', right_on='o_order_id')\n",
    "lineitem_data_with_date = lineitem_data_with_date.drop(columns=['o_order_id'])\n",
    "lineitem_data_with_date= lineitem_data_with_date.rename(columns={'li_product_id': 'product_id',\"li_order_id\":\"order_id\"})\n",
    "lineitem_data_with_date = lineitem_data_with_date.merge(product_data, left_on='product_id', right_on='product_id')\n",
    "lineitem_data_with_date.head()\n"
   ]
  },
  {
   "cell_type": "code",
   "execution_count": 27,
   "metadata": {},
   "outputs": [],
   "source": [
    "lineitem_data_with_date.to_parquet(\"feature_li_pro.parquet\")"
   ]
  },
  {
   "cell_type": "code",
   "execution_count": 32,
   "metadata": {},
   "outputs": [
    {
     "data": {
      "text/plain": [
       "<bound method NDFrame.describe of           order_id  product_id  quantity  price       date        name  \\\n",
       "1                2           1         3   1.20 2010-09-14  AVgDcdD1za   \n",
       "2                2          14         3   1.64 2010-09-14       PMgiH   \n",
       "3                2          14         3   2.41 2010-09-14       PMgiH   \n",
       "5                2           8         2   2.55 2010-09-14    OMh0eCuz   \n",
       "6                2           8         2   4.17 2010-09-14    OMh0eCuz   \n",
       "...            ...         ...       ...    ...        ...         ...   \n",
       "23026661   3676954         660         2   1.80 2010-12-23       yS2Ex   \n",
       "23026662   3676954         655         3   6.13 2010-12-23   5ZGNrYGbI   \n",
       "23026663   3676955         127         2   6.66 2011-11-28      yhLqA8   \n",
       "23026664   3676955         123         5   5.17 2011-11-28       gDv3m   \n",
       "23026665   3676955         115         2   6.21 2011-11-28   Tm2XCNBY0   \n",
       "\n",
       "                   department  \n",
       "1          FINANCIAL SERVICES  \n",
       "2          FINANCIAL SERVICES  \n",
       "3          FINANCIAL SERVICES  \n",
       "5         IMPULSE MERCHANDISE  \n",
       "6         IMPULSE MERCHANDISE  \n",
       "...                       ...  \n",
       "23026661          DSD GROCERY  \n",
       "23026662        PERSONAL CARE  \n",
       "23026663           AUTOMOTIVE  \n",
       "23026664            MENS WEAR  \n",
       "23026665      OFFICE SUPPLIES  \n",
       "\n",
       "[21903633 rows x 7 columns]>"
      ]
     },
     "execution_count": 32,
     "metadata": {},
     "output_type": "execute_result"
    }
   ],
   "source": [
    "feature_pq = feature_pq.dropna(subset= [\"name\",\"department\"])\n",
    "feature_pq.describe"
   ]
  },
  {
   "cell_type": "code",
   "execution_count": 33,
   "metadata": {},
   "outputs": [
    {
     "data": {
      "text/plain": [
       "order_id               int64\n",
       "product_id             int64\n",
       "quantity               int64\n",
       "price                float64\n",
       "date          datetime64[ns]\n",
       "name                  object\n",
       "department            object\n",
       "dtype: object"
      ]
     },
     "execution_count": 33,
     "metadata": {},
     "output_type": "execute_result"
    }
   ],
   "source": [
    "\n",
    "feature_pq[\"name\"] = feature_pq[\"name\"].astype(str)\n",
    "feature_pq[\"department\"]= feature_pq[\"department\"].astype(str)\n",
    "feature_pq.dtypes"
   ]
  },
  {
   "cell_type": "code",
   "execution_count": 34,
   "metadata": {},
   "outputs": [],
   "source": [
    "feature_pq.to_parquet(\"feature_ineitem_order.parquet\")"
   ]
  },
  {
   "cell_type": "code",
   "execution_count": 43,
   "metadata": {},
   "outputs": [],
   "source": [
    "entity_pq = order_data \n",
    "order_data = order_data.rename(columns={\"o_order_id\":\"order_id\",\"date\":\"event_timestamp\"})\n",
    "order_data.dtypes\n",
    "order_data.to_parquet(\"entity_order.parquet\")"
   ]
  },
  {
   "cell_type": "code",
   "execution_count": 44,
   "metadata": {},
   "outputs": [],
   "source": [
    "store = FeatureStore(repo_path=\"/home/hjhwang/workspace/tpcx-ai-v1.0.3.1/feast_uc08/feature_repo\")"
   ]
  },
  {
   "cell_type": "code",
   "execution_count": 45,
   "metadata": {},
   "outputs": [
    {
     "name": "stderr",
     "output_type": "stream",
     "text": [
      "WARNING:root:_list_feature_views will make breaking changes. Please use _list_batch_feature_views instead. _list_feature_views will behave like _list_all_feature_views in the future.\n"
     ]
    }
   ],
   "source": [
    "training_df = store.get_historical_features(\n",
    "    entity_df=order_data,\n",
    "    features=[\n",
    "        \"line_order_product:price\",\n",
    "    ],\n",
    ").to_df()"
   ]
  },
  {
   "cell_type": "code",
   "execution_count": 46,
   "metadata": {},
   "outputs": [
    {
     "data": {
      "text/html": [
       "<div>\n",
       "<style scoped>\n",
       "    .dataframe tbody tr th:only-of-type {\n",
       "        vertical-align: middle;\n",
       "    }\n",
       "\n",
       "    .dataframe tbody tr th {\n",
       "        vertical-align: top;\n",
       "    }\n",
       "\n",
       "    .dataframe thead th {\n",
       "        text-align: right;\n",
       "    }\n",
       "</style>\n",
       "<table border=\"1\" class=\"dataframe\">\n",
       "  <thead>\n",
       "    <tr style=\"text-align: right;\">\n",
       "      <th></th>\n",
       "      <th>order_id</th>\n",
       "      <th>o_customer_sk</th>\n",
       "      <th>weekday</th>\n",
       "      <th>event_timestamp</th>\n",
       "      <th>store</th>\n",
       "      <th>trip_type</th>\n",
       "      <th>price</th>\n",
       "    </tr>\n",
       "  </thead>\n",
       "  <tbody>\n",
       "    <tr>\n",
       "      <th>0</th>\n",
       "      <td>1095370</td>\n",
       "      <td>47251</td>\n",
       "      <td>Monday</td>\n",
       "      <td>2010-01-04 00:00:00+00:00</td>\n",
       "      <td>6</td>\n",
       "      <td>5</td>\n",
       "      <td>5.03</td>\n",
       "    </tr>\n",
       "    <tr>\n",
       "      <th>1</th>\n",
       "      <td>924357</td>\n",
       "      <td>17972</td>\n",
       "      <td>Monday</td>\n",
       "      <td>2010-01-04 00:00:00+00:00</td>\n",
       "      <td>8</td>\n",
       "      <td>37</td>\n",
       "      <td>8.91</td>\n",
       "    </tr>\n",
       "    <tr>\n",
       "      <th>2</th>\n",
       "      <td>129378</td>\n",
       "      <td>56575</td>\n",
       "      <td>Monday</td>\n",
       "      <td>2010-01-04 00:00:00+00:00</td>\n",
       "      <td>5</td>\n",
       "      <td>999</td>\n",
       "      <td>7.69</td>\n",
       "    </tr>\n",
       "    <tr>\n",
       "      <th>3</th>\n",
       "      <td>718770</td>\n",
       "      <td>50135</td>\n",
       "      <td>Monday</td>\n",
       "      <td>2010-01-04 00:00:00+00:00</td>\n",
       "      <td>3</td>\n",
       "      <td>999</td>\n",
       "      <td>5.68</td>\n",
       "    </tr>\n",
       "    <tr>\n",
       "      <th>4</th>\n",
       "      <td>2294536</td>\n",
       "      <td>7386</td>\n",
       "      <td>Monday</td>\n",
       "      <td>2010-01-04 00:00:00+00:00</td>\n",
       "      <td>5</td>\n",
       "      <td>40</td>\n",
       "      <td>7.13</td>\n",
       "    </tr>\n",
       "  </tbody>\n",
       "</table>\n",
       "</div>"
      ],
      "text/plain": [
       "   order_id  o_customer_sk weekday           event_timestamp  store  \\\n",
       "0   1095370          47251  Monday 2010-01-04 00:00:00+00:00      6   \n",
       "1    924357          17972  Monday 2010-01-04 00:00:00+00:00      8   \n",
       "2    129378          56575  Monday 2010-01-04 00:00:00+00:00      5   \n",
       "3    718770          50135  Monday 2010-01-04 00:00:00+00:00      3   \n",
       "4   2294536           7386  Monday 2010-01-04 00:00:00+00:00      5   \n",
       "\n",
       "   trip_type  price  \n",
       "0          5   5.03  \n",
       "1         37   8.91  \n",
       "2        999   7.69  \n",
       "3        999   5.68  \n",
       "4         40   7.13  "
      ]
     },
     "execution_count": 46,
     "metadata": {},
     "output_type": "execute_result"
    }
   ],
   "source": [
    "training_df.head()\n"
   ]
  },
  {
   "cell_type": "code",
   "execution_count": 39,
   "metadata": {},
   "outputs": [
    {
     "data": {
      "text/plain": [
       "order_id                    int64\n",
       "product_id                  int64\n",
       "quantity                    int64\n",
       "price                     float64\n",
       "event_timestamp    datetime64[ns]\n",
       "name                       object\n",
       "department                 object\n",
       "dtype: object"
      ]
     },
     "execution_count": 39,
     "metadata": {},
     "output_type": "execute_result"
    }
   ],
   "source": [
    "feature_df = pd.read_parquet(\"/home/hjhwang/workspace/tpcx-ai-v1.0.3.1/feature_li_pro.parquet\")\n",
    "feature_df = feature_df.rename(columns={\"date\":\"event_timestamp\"})\n",
    "feature_df.dtypes"
   ]
  },
  {
   "cell_type": "code",
   "execution_count": 40,
   "metadata": {},
   "outputs": [],
   "source": [
    "feature_df.to_parquet(\"feature_li_pro.parquet\")"
   ]
  },
  {
   "cell_type": "code",
   "execution_count": null,
   "metadata": {},
   "outputs": [],
   "source": []
  }
 ],
 "metadata": {
  "kernelspec": {
   "display_name": "Python 3",
   "language": "python",
   "name": "python3"
  },
  "language_info": {
   "codemirror_mode": {
    "name": "ipython",
    "version": 3
   },
   "file_extension": ".py",
   "mimetype": "text/x-python",
   "name": "python",
   "nbconvert_exporter": "python",
   "pygments_lexer": "ipython3",
   "version": "3.9.18"
  }
 },
 "nbformat": 4,
 "nbformat_minor": 2
}
